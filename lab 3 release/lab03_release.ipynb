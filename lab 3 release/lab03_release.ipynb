{
  "nbformat": 4,
  "nbformat_minor": 0,
  "metadata": {
    "colab": {
      "provenance": [],
      "toc_visible": true
    },
    "kernelspec": {
      "name": "python3",
      "display_name": "Python 3"
    },
    "accelerator": "GPU",
    "widgets": {
      "application/vnd.jupyter.widget-state+json": {
        "136f22d7b98449538e55053e5f5725c7": {
          "model_module": "@jupyter-widgets/controls",
          "model_name": "HBoxModel",
          "model_module_version": "1.5.0",
          "state": {
            "_dom_classes": [],
            "_model_module": "@jupyter-widgets/controls",
            "_model_module_version": "1.5.0",
            "_model_name": "HBoxModel",
            "_view_count": null,
            "_view_module": "@jupyter-widgets/controls",
            "_view_module_version": "1.5.0",
            "_view_name": "HBoxView",
            "box_style": "",
            "children": [
              "IPY_MODEL_a0f0a0ac5bcc429eb54a2d8927106079",
              "IPY_MODEL_9613a1dbee4148969d78b455555605a8",
              "IPY_MODEL_6d5a43aa2dff42b799ed0b60d5d1e32b"
            ],
            "layout": "IPY_MODEL_87858579f4204a898814487a27948331"
          }
        },
        "a0f0a0ac5bcc429eb54a2d8927106079": {
          "model_module": "@jupyter-widgets/controls",
          "model_name": "HTMLModel",
          "model_module_version": "1.5.0",
          "state": {
            "_dom_classes": [],
            "_model_module": "@jupyter-widgets/controls",
            "_model_module_version": "1.5.0",
            "_model_name": "HTMLModel",
            "_view_count": null,
            "_view_module": "@jupyter-widgets/controls",
            "_view_module_version": "1.5.0",
            "_view_name": "HTMLView",
            "description": "",
            "description_tooltip": null,
            "layout": "IPY_MODEL_60b42c2d8906481ab3d7a826f8cd3e93",
            "placeholder": "​",
            "style": "IPY_MODEL_a91644bf7ec442f396b016f106ade55a",
            "value": "100%"
          }
        },
        "9613a1dbee4148969d78b455555605a8": {
          "model_module": "@jupyter-widgets/controls",
          "model_name": "FloatProgressModel",
          "model_module_version": "1.5.0",
          "state": {
            "_dom_classes": [],
            "_model_module": "@jupyter-widgets/controls",
            "_model_module_version": "1.5.0",
            "_model_name": "FloatProgressModel",
            "_view_count": null,
            "_view_module": "@jupyter-widgets/controls",
            "_view_module_version": "1.5.0",
            "_view_name": "ProgressView",
            "bar_style": "success",
            "description": "",
            "description_tooltip": null,
            "layout": "IPY_MODEL_7111f5cc7a02405d9d25cdf897587a8a",
            "max": 10,
            "min": 0,
            "orientation": "horizontal",
            "style": "IPY_MODEL_22251a63e1db419da3d0c7987b88293b",
            "value": 10
          }
        },
        "6d5a43aa2dff42b799ed0b60d5d1e32b": {
          "model_module": "@jupyter-widgets/controls",
          "model_name": "HTMLModel",
          "model_module_version": "1.5.0",
          "state": {
            "_dom_classes": [],
            "_model_module": "@jupyter-widgets/controls",
            "_model_module_version": "1.5.0",
            "_model_name": "HTMLModel",
            "_view_count": null,
            "_view_module": "@jupyter-widgets/controls",
            "_view_module_version": "1.5.0",
            "_view_name": "HTMLView",
            "description": "",
            "description_tooltip": null,
            "layout": "IPY_MODEL_96262ae16e414a70b2c45a6f4d966f6e",
            "placeholder": "​",
            "style": "IPY_MODEL_717e23023a8b4e64b130e55ca320726b",
            "value": " 10/10 [00:28&lt;00:00,  2.81s/it]"
          }
        },
        "87858579f4204a898814487a27948331": {
          "model_module": "@jupyter-widgets/base",
          "model_name": "LayoutModel",
          "model_module_version": "1.2.0",
          "state": {
            "_model_module": "@jupyter-widgets/base",
            "_model_module_version": "1.2.0",
            "_model_name": "LayoutModel",
            "_view_count": null,
            "_view_module": "@jupyter-widgets/base",
            "_view_module_version": "1.2.0",
            "_view_name": "LayoutView",
            "align_content": null,
            "align_items": null,
            "align_self": null,
            "border": null,
            "bottom": null,
            "display": null,
            "flex": null,
            "flex_flow": null,
            "grid_area": null,
            "grid_auto_columns": null,
            "grid_auto_flow": null,
            "grid_auto_rows": null,
            "grid_column": null,
            "grid_gap": null,
            "grid_row": null,
            "grid_template_areas": null,
            "grid_template_columns": null,
            "grid_template_rows": null,
            "height": null,
            "justify_content": null,
            "justify_items": null,
            "left": null,
            "margin": null,
            "max_height": null,
            "max_width": null,
            "min_height": null,
            "min_width": null,
            "object_fit": null,
            "object_position": null,
            "order": null,
            "overflow": null,
            "overflow_x": null,
            "overflow_y": null,
            "padding": null,
            "right": null,
            "top": null,
            "visibility": null,
            "width": null
          }
        },
        "60b42c2d8906481ab3d7a826f8cd3e93": {
          "model_module": "@jupyter-widgets/base",
          "model_name": "LayoutModel",
          "model_module_version": "1.2.0",
          "state": {
            "_model_module": "@jupyter-widgets/base",
            "_model_module_version": "1.2.0",
            "_model_name": "LayoutModel",
            "_view_count": null,
            "_view_module": "@jupyter-widgets/base",
            "_view_module_version": "1.2.0",
            "_view_name": "LayoutView",
            "align_content": null,
            "align_items": null,
            "align_self": null,
            "border": null,
            "bottom": null,
            "display": null,
            "flex": null,
            "flex_flow": null,
            "grid_area": null,
            "grid_auto_columns": null,
            "grid_auto_flow": null,
            "grid_auto_rows": null,
            "grid_column": null,
            "grid_gap": null,
            "grid_row": null,
            "grid_template_areas": null,
            "grid_template_columns": null,
            "grid_template_rows": null,
            "height": null,
            "justify_content": null,
            "justify_items": null,
            "left": null,
            "margin": null,
            "max_height": null,
            "max_width": null,
            "min_height": null,
            "min_width": null,
            "object_fit": null,
            "object_position": null,
            "order": null,
            "overflow": null,
            "overflow_x": null,
            "overflow_y": null,
            "padding": null,
            "right": null,
            "top": null,
            "visibility": null,
            "width": null
          }
        },
        "a91644bf7ec442f396b016f106ade55a": {
          "model_module": "@jupyter-widgets/controls",
          "model_name": "DescriptionStyleModel",
          "model_module_version": "1.5.0",
          "state": {
            "_model_module": "@jupyter-widgets/controls",
            "_model_module_version": "1.5.0",
            "_model_name": "DescriptionStyleModel",
            "_view_count": null,
            "_view_module": "@jupyter-widgets/base",
            "_view_module_version": "1.2.0",
            "_view_name": "StyleView",
            "description_width": ""
          }
        },
        "7111f5cc7a02405d9d25cdf897587a8a": {
          "model_module": "@jupyter-widgets/base",
          "model_name": "LayoutModel",
          "model_module_version": "1.2.0",
          "state": {
            "_model_module": "@jupyter-widgets/base",
            "_model_module_version": "1.2.0",
            "_model_name": "LayoutModel",
            "_view_count": null,
            "_view_module": "@jupyter-widgets/base",
            "_view_module_version": "1.2.0",
            "_view_name": "LayoutView",
            "align_content": null,
            "align_items": null,
            "align_self": null,
            "border": null,
            "bottom": null,
            "display": null,
            "flex": null,
            "flex_flow": null,
            "grid_area": null,
            "grid_auto_columns": null,
            "grid_auto_flow": null,
            "grid_auto_rows": null,
            "grid_column": null,
            "grid_gap": null,
            "grid_row": null,
            "grid_template_areas": null,
            "grid_template_columns": null,
            "grid_template_rows": null,
            "height": null,
            "justify_content": null,
            "justify_items": null,
            "left": null,
            "margin": null,
            "max_height": null,
            "max_width": null,
            "min_height": null,
            "min_width": null,
            "object_fit": null,
            "object_position": null,
            "order": null,
            "overflow": null,
            "overflow_x": null,
            "overflow_y": null,
            "padding": null,
            "right": null,
            "top": null,
            "visibility": null,
            "width": null
          }
        },
        "22251a63e1db419da3d0c7987b88293b": {
          "model_module": "@jupyter-widgets/controls",
          "model_name": "ProgressStyleModel",
          "model_module_version": "1.5.0",
          "state": {
            "_model_module": "@jupyter-widgets/controls",
            "_model_module_version": "1.5.0",
            "_model_name": "ProgressStyleModel",
            "_view_count": null,
            "_view_module": "@jupyter-widgets/base",
            "_view_module_version": "1.2.0",
            "_view_name": "StyleView",
            "bar_color": null,
            "description_width": ""
          }
        },
        "96262ae16e414a70b2c45a6f4d966f6e": {
          "model_module": "@jupyter-widgets/base",
          "model_name": "LayoutModel",
          "model_module_version": "1.2.0",
          "state": {
            "_model_module": "@jupyter-widgets/base",
            "_model_module_version": "1.2.0",
            "_model_name": "LayoutModel",
            "_view_count": null,
            "_view_module": "@jupyter-widgets/base",
            "_view_module_version": "1.2.0",
            "_view_name": "LayoutView",
            "align_content": null,
            "align_items": null,
            "align_self": null,
            "border": null,
            "bottom": null,
            "display": null,
            "flex": null,
            "flex_flow": null,
            "grid_area": null,
            "grid_auto_columns": null,
            "grid_auto_flow": null,
            "grid_auto_rows": null,
            "grid_column": null,
            "grid_gap": null,
            "grid_row": null,
            "grid_template_areas": null,
            "grid_template_columns": null,
            "grid_template_rows": null,
            "height": null,
            "justify_content": null,
            "justify_items": null,
            "left": null,
            "margin": null,
            "max_height": null,
            "max_width": null,
            "min_height": null,
            "min_width": null,
            "object_fit": null,
            "object_position": null,
            "order": null,
            "overflow": null,
            "overflow_x": null,
            "overflow_y": null,
            "padding": null,
            "right": null,
            "top": null,
            "visibility": null,
            "width": null
          }
        },
        "717e23023a8b4e64b130e55ca320726b": {
          "model_module": "@jupyter-widgets/controls",
          "model_name": "DescriptionStyleModel",
          "model_module_version": "1.5.0",
          "state": {
            "_model_module": "@jupyter-widgets/controls",
            "_model_module_version": "1.5.0",
            "_model_name": "DescriptionStyleModel",
            "_view_count": null,
            "_view_module": "@jupyter-widgets/base",
            "_view_module_version": "1.2.0",
            "_view_name": "StyleView",
            "description_width": ""
          }
        }
      }
    }
  },
  "cells": [
    {
      "cell_type": "markdown",
      "metadata": {
        "id": "i2Vf5pYVgBvT"
      },
      "source": [
        "# Lab 3 - Convolutional Neural Networks\n",
        "In this lab we'll implement our first [convolutional neural network](https://en.wikipedia.org/wiki/Convolutional_neural_network) to solve an image classification task.\n",
        "\n",
        "Our goal today is to predict the value of a handwritten digit, using the very popular [MNIST dataset](http://yann.lecun.com/exdb/mnist/) - a collection of 70,000 grayscale handwritten numbers between 0 and 9.\n",
        "\n",
        "The steps are pretty much the same as for the previous lab:\n",
        " * Acquiring and exploring the dataset\n",
        " * Splitting the dataset in train / validation / test partitions\n",
        " * Implementing a neural network\n",
        " * Writing a training loop\n",
        " * Visualising our results\n",
        " * Improving the model\n",
        "\n",
        "There is an excel spreadsheet attached to this that shows you the results that the tutor achieved for the different models he trained. Note there are two sheets in that spreadsheet. One sheet is the tutors results and another blank sheet for you to record your results. Note even the exact same model can produce different results due to random weight initialisations. So don't be too stressed if you do not get exactly the same results as the tutor.\n",
        "\n",
        "\n",
        "There is also a text file showing the minimum training code necessary to train MNIST. It is interesting to take a look at how small you can make the training loop."
      ]
    },
    {
      "cell_type": "markdown",
      "metadata": {
        "id": "QlvtzErGhNvH"
      },
      "source": [
        "## Data Acquisition\n",
        "As usual, the first step is to acquire the dataset. The data format for MNIST is notoriously complex, so we'll use a [pre-processed version](https://ashwhall.github.io/download/mnist_csv/readme.txt). The CSV file is in a compressed zip file, which [Pandas](https://pandas.pydata.org/) is able to decompress and read.\n",
        "\n",
        "In the next cell Pandas will download the dataset and store it in a `DataFrame` object. MNIST is already partitioned into training and test splits, so we'll download each of the files and store them in their own `DataFrame`. We also want a validation partition, so we'll be splitting the training data further into a training partition and a validation partition."
      ]
    },
    {
      "cell_type": "code",
      "metadata": {
        "id": "SRxCVn_4RCIA",
        "colab": {
          "base_uri": "https://localhost:8080/"
        },
        "outputId": "300837be-b0d8-472d-c604-eff0d9801f2e"
      },
      "source": [
        "import pandas as pd\n",
        "\n",
        "# Download train/val data\n",
        "print(\"Downloading training/validation dataset... \", end='')\n",
        "trainval_df = pd.read_csv(\"https://ashwhall.github.io/download/mnist_csv/mnist_train.zip\", header=None)\n",
        "print(\"done.\")\n",
        "\n",
        "# Download test data\n",
        "print(\"Downloading training/validation dataset... \", end='')\n",
        "test_df = pd.read_csv(\"https://ashwhall.github.io/download/mnist_csv/mnist_test.zip\", header=None)\n",
        "print(\"done.\")"
      ],
      "execution_count": 28,
      "outputs": [
        {
          "output_type": "stream",
          "name": "stdout",
          "text": [
            "Downloading training/validation dataset... done.\n",
            "Downloading training/validation dataset... done.\n"
          ]
        }
      ]
    },
    {
      "cell_type": "markdown",
      "metadata": {
        "id": "zgbdrkZ_qBg3"
      },
      "source": [
        "### Check for Missing Data\n",
        "Like we did in the previous lab, we'll check for any missing data before going any further.\n",
        "\n",
        "Last time, we used `some_df.isnull().sum()` to get the number of null values in each column. As this dataset has hundreds of columns, printing it this way would result in printing hundreds of numbers to the console - which is not very easy to read. \\\n",
        "To avoid this, we'll we'll sum the result of that sum - thus summing the number of null values in each column to produce a single value.\n",
        "\n",
        "*This dataset doesn't contain any null values, so we don't need to fix it. Common strategies include replacing nulls with the mean value for that attribute, the value zero, or just deleting the entire example.*"
      ]
    },
    {
      "cell_type": "code",
      "metadata": {
        "id": "ErlK-8S1p8pq",
        "colab": {
          "base_uri": "https://localhost:8080/"
        },
        "outputId": "46c453de-9e59-4198-d703-e2d53d7a340a"
      },
      "source": [
        "print(\"Train/val nulls: \", trainval_df.isnull().sum().sum())\n",
        "print(\"Test nulls:      \", test_df.isnull().sum().sum())"
      ],
      "execution_count": 29,
      "outputs": [
        {
          "output_type": "stream",
          "name": "stdout",
          "text": [
            "Train/val nulls:  0\n",
            "Test nulls:       0\n"
          ]
        }
      ]
    },
    {
      "cell_type": "markdown",
      "metadata": {
        "id": "WEZaGx6Crovs"
      },
      "source": [
        "## Partition the Dataset\n",
        "Now we'll split our dataset into three partitions - training, validation and testing like we did last time. The test partition has already been provided for us, so all that's left is splitting the `trainval_df` into training and validation `DataFrames`.\n",
        "\n",
        "To do this split, we'll use the handy `DataFrame.sample` function, which returns a randomly sampled percentage of the `DataFrame`."
      ]
    },
    {
      "cell_type": "code",
      "metadata": {
        "id": "Y3rc_NxiRG30",
        "colab": {
          "base_uri": "https://localhost:8080/"
        },
        "outputId": "4e1721d3-c7ab-4bc9-87c6-54a6d75c7f4a"
      },
      "source": [
        "# Sample the train examples\n",
        "train_df = trainval_df.sample(frac=0.8, random_state=42)\n",
        "# Use 'drop' to take what's left\n",
        "val_df = trainval_df.drop(train_df.index)\n",
        "\n",
        "print(\"Train DataFrame:     \", train_df.shape)\n",
        "print(\"Validation DataFrame:\", val_df.shape)\n",
        "print(\"Test DataFrame:      \", test_df.shape)"
      ],
      "execution_count": 30,
      "outputs": [
        {
          "output_type": "stream",
          "name": "stdout",
          "text": [
            "Train DataFrame:      (48000, 785)\n",
            "Validation DataFrame: (12000, 785)\n",
            "Test DataFrame:       (10000, 785)\n"
          ]
        }
      ]
    },
    {
      "cell_type": "markdown",
      "metadata": {
        "id": "uskk3lZPihbm"
      },
      "source": [
        "The previous cell tells us how many examples are in each dataframe and how many columns each example has. We're working with images but each example is a list of 785 numbers - how does that work?\n",
        "\n",
        "The [download page](https://pjreddie.com/projects/mnist-in-csv/) of our dataset states that the data format is `label, pix-11, pix-12, pix-13, ...`. \\\n",
        "This means that the first column in the dataset is the numerical value of the digit, and the remaining 784 columns are the pixel values. So the images are 28 pixels wide and 28 pixels tall.\n",
        "\n",
        "Let's look at that for ourselves"
      ]
    },
    {
      "cell_type": "code",
      "metadata": {
        "id": "hsY64EWQjofw",
        "colab": {
          "base_uri": "https://localhost:8080/",
          "height": 236
        },
        "outputId": "85cc511f-77f4-4975-b71d-fc245222d3a1"
      },
      "source": [
        "train_df.head()"
      ],
      "execution_count": 31,
      "outputs": [
        {
          "output_type": "execute_result",
          "data": {
            "text/plain": [
              "       0    1    2    3    4    5    6    7    8    9    ...  775  776  777  \\\n",
              "12628    7    0    0    0    0    0    0    0    0    0  ...    0    0    0   \n",
              "37730    3    0    0    0    0    0    0    0    0    0  ...    0    0    0   \n",
              "39991    8    0    0    0    0    0    0    0    0    0  ...    0    0    0   \n",
              "8525     9    0    0    0    0    0    0    0    0    0  ...    0    0    0   \n",
              "8279     3    0    0    0    0    0    0    0    0    0  ...    0    0    0   \n",
              "\n",
              "       778  779  780  781  782  783  784  \n",
              "12628    0    0    0    0    0    0    0  \n",
              "37730    0    0    0    0    0    0    0  \n",
              "39991    0    0    0    0    0    0    0  \n",
              "8525     0    0    0    0    0    0    0  \n",
              "8279     0    0    0    0    0    0    0  \n",
              "\n",
              "[5 rows x 785 columns]"
            ],
            "text/html": [
              "\n",
              "  <div id=\"df-662d6713-db1f-4a17-adfb-c2ca6c2734ef\" class=\"colab-df-container\">\n",
              "    <div>\n",
              "<style scoped>\n",
              "    .dataframe tbody tr th:only-of-type {\n",
              "        vertical-align: middle;\n",
              "    }\n",
              "\n",
              "    .dataframe tbody tr th {\n",
              "        vertical-align: top;\n",
              "    }\n",
              "\n",
              "    .dataframe thead th {\n",
              "        text-align: right;\n",
              "    }\n",
              "</style>\n",
              "<table border=\"1\" class=\"dataframe\">\n",
              "  <thead>\n",
              "    <tr style=\"text-align: right;\">\n",
              "      <th></th>\n",
              "      <th>0</th>\n",
              "      <th>1</th>\n",
              "      <th>2</th>\n",
              "      <th>3</th>\n",
              "      <th>4</th>\n",
              "      <th>5</th>\n",
              "      <th>6</th>\n",
              "      <th>7</th>\n",
              "      <th>8</th>\n",
              "      <th>9</th>\n",
              "      <th>...</th>\n",
              "      <th>775</th>\n",
              "      <th>776</th>\n",
              "      <th>777</th>\n",
              "      <th>778</th>\n",
              "      <th>779</th>\n",
              "      <th>780</th>\n",
              "      <th>781</th>\n",
              "      <th>782</th>\n",
              "      <th>783</th>\n",
              "      <th>784</th>\n",
              "    </tr>\n",
              "  </thead>\n",
              "  <tbody>\n",
              "    <tr>\n",
              "      <th>12628</th>\n",
              "      <td>7</td>\n",
              "      <td>0</td>\n",
              "      <td>0</td>\n",
              "      <td>0</td>\n",
              "      <td>0</td>\n",
              "      <td>0</td>\n",
              "      <td>0</td>\n",
              "      <td>0</td>\n",
              "      <td>0</td>\n",
              "      <td>0</td>\n",
              "      <td>...</td>\n",
              "      <td>0</td>\n",
              "      <td>0</td>\n",
              "      <td>0</td>\n",
              "      <td>0</td>\n",
              "      <td>0</td>\n",
              "      <td>0</td>\n",
              "      <td>0</td>\n",
              "      <td>0</td>\n",
              "      <td>0</td>\n",
              "      <td>0</td>\n",
              "    </tr>\n",
              "    <tr>\n",
              "      <th>37730</th>\n",
              "      <td>3</td>\n",
              "      <td>0</td>\n",
              "      <td>0</td>\n",
              "      <td>0</td>\n",
              "      <td>0</td>\n",
              "      <td>0</td>\n",
              "      <td>0</td>\n",
              "      <td>0</td>\n",
              "      <td>0</td>\n",
              "      <td>0</td>\n",
              "      <td>...</td>\n",
              "      <td>0</td>\n",
              "      <td>0</td>\n",
              "      <td>0</td>\n",
              "      <td>0</td>\n",
              "      <td>0</td>\n",
              "      <td>0</td>\n",
              "      <td>0</td>\n",
              "      <td>0</td>\n",
              "      <td>0</td>\n",
              "      <td>0</td>\n",
              "    </tr>\n",
              "    <tr>\n",
              "      <th>39991</th>\n",
              "      <td>8</td>\n",
              "      <td>0</td>\n",
              "      <td>0</td>\n",
              "      <td>0</td>\n",
              "      <td>0</td>\n",
              "      <td>0</td>\n",
              "      <td>0</td>\n",
              "      <td>0</td>\n",
              "      <td>0</td>\n",
              "      <td>0</td>\n",
              "      <td>...</td>\n",
              "      <td>0</td>\n",
              "      <td>0</td>\n",
              "      <td>0</td>\n",
              "      <td>0</td>\n",
              "      <td>0</td>\n",
              "      <td>0</td>\n",
              "      <td>0</td>\n",
              "      <td>0</td>\n",
              "      <td>0</td>\n",
              "      <td>0</td>\n",
              "    </tr>\n",
              "    <tr>\n",
              "      <th>8525</th>\n",
              "      <td>9</td>\n",
              "      <td>0</td>\n",
              "      <td>0</td>\n",
              "      <td>0</td>\n",
              "      <td>0</td>\n",
              "      <td>0</td>\n",
              "      <td>0</td>\n",
              "      <td>0</td>\n",
              "      <td>0</td>\n",
              "      <td>0</td>\n",
              "      <td>...</td>\n",
              "      <td>0</td>\n",
              "      <td>0</td>\n",
              "      <td>0</td>\n",
              "      <td>0</td>\n",
              "      <td>0</td>\n",
              "      <td>0</td>\n",
              "      <td>0</td>\n",
              "      <td>0</td>\n",
              "      <td>0</td>\n",
              "      <td>0</td>\n",
              "    </tr>\n",
              "    <tr>\n",
              "      <th>8279</th>\n",
              "      <td>3</td>\n",
              "      <td>0</td>\n",
              "      <td>0</td>\n",
              "      <td>0</td>\n",
              "      <td>0</td>\n",
              "      <td>0</td>\n",
              "      <td>0</td>\n",
              "      <td>0</td>\n",
              "      <td>0</td>\n",
              "      <td>0</td>\n",
              "      <td>...</td>\n",
              "      <td>0</td>\n",
              "      <td>0</td>\n",
              "      <td>0</td>\n",
              "      <td>0</td>\n",
              "      <td>0</td>\n",
              "      <td>0</td>\n",
              "      <td>0</td>\n",
              "      <td>0</td>\n",
              "      <td>0</td>\n",
              "      <td>0</td>\n",
              "    </tr>\n",
              "  </tbody>\n",
              "</table>\n",
              "<p>5 rows × 785 columns</p>\n",
              "</div>\n",
              "    <div class=\"colab-df-buttons\">\n",
              "\n",
              "  <div class=\"colab-df-container\">\n",
              "    <button class=\"colab-df-convert\" onclick=\"convertToInteractive('df-662d6713-db1f-4a17-adfb-c2ca6c2734ef')\"\n",
              "            title=\"Convert this dataframe to an interactive table.\"\n",
              "            style=\"display:none;\">\n",
              "\n",
              "  <svg xmlns=\"http://www.w3.org/2000/svg\" height=\"24px\" viewBox=\"0 -960 960 960\">\n",
              "    <path d=\"M120-120v-720h720v720H120Zm60-500h600v-160H180v160Zm220 220h160v-160H400v160Zm0 220h160v-160H400v160ZM180-400h160v-160H180v160Zm440 0h160v-160H620v160ZM180-180h160v-160H180v160Zm440 0h160v-160H620v160Z\"/>\n",
              "  </svg>\n",
              "    </button>\n",
              "\n",
              "  <style>\n",
              "    .colab-df-container {\n",
              "      display:flex;\n",
              "      gap: 12px;\n",
              "    }\n",
              "\n",
              "    .colab-df-convert {\n",
              "      background-color: #E8F0FE;\n",
              "      border: none;\n",
              "      border-radius: 50%;\n",
              "      cursor: pointer;\n",
              "      display: none;\n",
              "      fill: #1967D2;\n",
              "      height: 32px;\n",
              "      padding: 0 0 0 0;\n",
              "      width: 32px;\n",
              "    }\n",
              "\n",
              "    .colab-df-convert:hover {\n",
              "      background-color: #E2EBFA;\n",
              "      box-shadow: 0px 1px 2px rgba(60, 64, 67, 0.3), 0px 1px 3px 1px rgba(60, 64, 67, 0.15);\n",
              "      fill: #174EA6;\n",
              "    }\n",
              "\n",
              "    .colab-df-buttons div {\n",
              "      margin-bottom: 4px;\n",
              "    }\n",
              "\n",
              "    [theme=dark] .colab-df-convert {\n",
              "      background-color: #3B4455;\n",
              "      fill: #D2E3FC;\n",
              "    }\n",
              "\n",
              "    [theme=dark] .colab-df-convert:hover {\n",
              "      background-color: #434B5C;\n",
              "      box-shadow: 0px 1px 3px 1px rgba(0, 0, 0, 0.15);\n",
              "      filter: drop-shadow(0px 1px 2px rgba(0, 0, 0, 0.3));\n",
              "      fill: #FFFFFF;\n",
              "    }\n",
              "  </style>\n",
              "\n",
              "    <script>\n",
              "      const buttonEl =\n",
              "        document.querySelector('#df-662d6713-db1f-4a17-adfb-c2ca6c2734ef button.colab-df-convert');\n",
              "      buttonEl.style.display =\n",
              "        google.colab.kernel.accessAllowed ? 'block' : 'none';\n",
              "\n",
              "      async function convertToInteractive(key) {\n",
              "        const element = document.querySelector('#df-662d6713-db1f-4a17-adfb-c2ca6c2734ef');\n",
              "        const dataTable =\n",
              "          await google.colab.kernel.invokeFunction('convertToInteractive',\n",
              "                                                    [key], {});\n",
              "        if (!dataTable) return;\n",
              "\n",
              "        const docLinkHtml = 'Like what you see? Visit the ' +\n",
              "          '<a target=\"_blank\" href=https://colab.research.google.com/notebooks/data_table.ipynb>data table notebook</a>'\n",
              "          + ' to learn more about interactive tables.';\n",
              "        element.innerHTML = '';\n",
              "        dataTable['output_type'] = 'display_data';\n",
              "        await google.colab.output.renderOutput(dataTable, element);\n",
              "        const docLink = document.createElement('div');\n",
              "        docLink.innerHTML = docLinkHtml;\n",
              "        element.appendChild(docLink);\n",
              "      }\n",
              "    </script>\n",
              "  </div>\n",
              "\n",
              "\n",
              "<div id=\"df-eb3806c9-8908-4dc1-b3e9-210cb5ac06e9\">\n",
              "  <button class=\"colab-df-quickchart\" onclick=\"quickchart('df-eb3806c9-8908-4dc1-b3e9-210cb5ac06e9')\"\n",
              "            title=\"Suggest charts.\"\n",
              "            style=\"display:none;\">\n",
              "\n",
              "<svg xmlns=\"http://www.w3.org/2000/svg\" height=\"24px\"viewBox=\"0 0 24 24\"\n",
              "     width=\"24px\">\n",
              "    <g>\n",
              "        <path d=\"M19 3H5c-1.1 0-2 .9-2 2v14c0 1.1.9 2 2 2h14c1.1 0 2-.9 2-2V5c0-1.1-.9-2-2-2zM9 17H7v-7h2v7zm4 0h-2V7h2v10zm4 0h-2v-4h2v4z\"/>\n",
              "    </g>\n",
              "</svg>\n",
              "  </button>\n",
              "\n",
              "<style>\n",
              "  .colab-df-quickchart {\n",
              "    background-color: #E8F0FE;\n",
              "    border: none;\n",
              "    border-radius: 50%;\n",
              "    cursor: pointer;\n",
              "    display: none;\n",
              "    fill: #1967D2;\n",
              "    height: 32px;\n",
              "    padding: 0 0 0 0;\n",
              "    width: 32px;\n",
              "  }\n",
              "\n",
              "  .colab-df-quickchart:hover {\n",
              "    background-color: #E2EBFA;\n",
              "    box-shadow: 0px 1px 2px rgba(60, 64, 67, 0.3), 0px 1px 3px 1px rgba(60, 64, 67, 0.15);\n",
              "    fill: #174EA6;\n",
              "  }\n",
              "\n",
              "  [theme=dark] .colab-df-quickchart {\n",
              "    background-color: #3B4455;\n",
              "    fill: #D2E3FC;\n",
              "  }\n",
              "\n",
              "  [theme=dark] .colab-df-quickchart:hover {\n",
              "    background-color: #434B5C;\n",
              "    box-shadow: 0px 1px 3px 1px rgba(0, 0, 0, 0.15);\n",
              "    filter: drop-shadow(0px 1px 2px rgba(0, 0, 0, 0.3));\n",
              "    fill: #FFFFFF;\n",
              "  }\n",
              "</style>\n",
              "\n",
              "  <script>\n",
              "    async function quickchart(key) {\n",
              "      const charts = await google.colab.kernel.invokeFunction(\n",
              "          'suggestCharts', [key], {});\n",
              "    }\n",
              "    (() => {\n",
              "      let quickchartButtonEl =\n",
              "        document.querySelector('#df-eb3806c9-8908-4dc1-b3e9-210cb5ac06e9 button');\n",
              "      quickchartButtonEl.style.display =\n",
              "        google.colab.kernel.accessAllowed ? 'block' : 'none';\n",
              "    })();\n",
              "  </script>\n",
              "</div>\n",
              "    </div>\n",
              "  </div>\n"
            ]
          },
          "metadata": {},
          "execution_count": 31
        }
      ]
    },
    {
      "cell_type": "markdown",
      "metadata": {
        "id": "KQsVgJ-djsEb"
      },
      "source": [
        "Sure enough, the first column is a number between 0 and 9, and the remaining values are miscellaneous numbers. The pixel values are mostly `0` as the images have a black background with white text.\n",
        "\n",
        "Now we just need to convert the pixel data into 2D images and separate the labels from the images.\n"
      ]
    },
    {
      "cell_type": "code",
      "metadata": {
        "id": "38CxZTCjFBOJ",
        "colab": {
          "base_uri": "https://localhost:8080/"
        },
        "outputId": "3b56666d-93ef-40e5-aa80-22e80c891cdd"
      },
      "source": [
        "import numpy as np\n",
        "\n",
        "# A utility function to extract the labels and images from a dataframe\n",
        "def extract_images_labels(df):\n",
        "    # Extract the first column values as labels\n",
        "    labels = np.array(df.iloc[:, 0])\n",
        "\n",
        "    # Extract the remaining columns as images\n",
        "    images = np.array(df.iloc[:, 1:])\n",
        "\n",
        "    # Reshape the images and convert to floats\n",
        "    images = images.reshape(-1, 28, 28, 1).astype(np.float32)\n",
        "\n",
        "    return images, labels\n",
        "\n",
        "# Perform the extraction on each of the DataFrames\n",
        "train_images, train_labels = extract_images_labels(train_df)\n",
        "val_images, val_labels = extract_images_labels(val_df)\n",
        "test_images, test_labels = extract_images_labels(test_df)\n",
        "\n",
        "print(\"Train image shape:\", train_images.shape)"
      ],
      "execution_count": 32,
      "outputs": [
        {
          "output_type": "stream",
          "name": "stdout",
          "text": [
            "Train image shape: (48000, 28, 28, 1)\n"
          ]
        }
      ]
    },
    {
      "cell_type": "markdown",
      "metadata": {
        "id": "Yt1PwvYjmMgB"
      },
      "source": [
        "Each image now has a shape of `(28, 28, 1)` - `28` pixels tall, `28` pixels wide, and a single (grayscale) colour channel - perfect!"
      ]
    },
    {
      "cell_type": "markdown",
      "metadata": {
        "id": "YgqlmY6NmXhy"
      },
      "source": [
        "## Data Exploration\n",
        "\n",
        "### View Some Examples\n",
        "Now that we have the data in the correct format, we can finally look at the images!\n",
        "\n",
        "As we may want to do this later, we'll use a utility function which prints some images with their associated labels. This function is a little complex as we want to support a couple of different formats, so it's been written for you."
      ]
    },
    {
      "cell_type": "code",
      "metadata": {
        "id": "a9rpSBjjFBLu",
        "colab": {
          "base_uri": "https://localhost:8080/",
          "height": 521
        },
        "outputId": "bfec2919-313f-4711-f0b1-ff75b340e0ce"
      },
      "source": [
        "# Import a graph-plotting library\n",
        "import matplotlib.pyplot as plt\n",
        "\n",
        "# This function takes a list of images and a list of labels and plots the first n_images\n",
        "def plot_some_images(images, labels, n_images=16):\n",
        "    # Set the figure size\n",
        "    plt.figure(figsize=(12, 6))\n",
        "\n",
        "    for i in range(n_images):\n",
        "        # Select a subplot in a grid\n",
        "        plt.subplot(4, 4, i + 1)\n",
        "        img = images[i]\n",
        "        # Select the channel dimension, depending on data format\n",
        "        img = img[0] if img.shape[0] == 1 else img[..., 0]\n",
        "\n",
        "        # Plot the image with title and no axis ticks\n",
        "        plt.imshow(img, cmap='gray', interpolation='nearest')\n",
        "        plt.title(f\"Value: {labels[i]}\")\n",
        "        plt.axis('off')\n",
        "    plt.show()\n",
        "\n",
        "# Plot some training images and labels - feel free to display the validation and\n",
        "# test images instead\n",
        "plot_some_images(train_images, train_labels)"
      ],
      "execution_count": 33,
      "outputs": [
        {
          "output_type": "display_data",
          "data": {
            "text/plain": [
              "<Figure size 1200x600 with 16 Axes>"
            ],
            "image/png": "[encoded data removed]"
          },
          "metadata": {}
        }
      ]
    },
    {
      "cell_type": "markdown",
      "metadata": {
        "id": "UZ4fHGWIpr4z"
      },
      "source": [
        "### Plot Class Distributions\n",
        "Now we've seen some examples from the dataset, let's take a look at the distribution of values. We'll use a histogram like last time, and will plot a different one for each of the training / validation / testing splits.\n",
        "\n",
        "We are primarily looking for two things in these plots:\n",
        "1. That there's an approximately equal number of examples for each label.\n",
        " * For this to be true, the bars should all have approximately the same height. A 10-20% difference in height shouldn't be a problem. This issue is called *class imbalance*, and there are a number of techniques to handle it.\n",
        "2. That the distribution between the three partitions are approximately equal.\n",
        " * The graphs should look roughly the same - if there's a discrepancy between the partitions, we would need to repartition, possibly using [Stratified Sampling](https://en.wikipedia.org/wiki/Stratified_sampling).\n",
        "\n",
        "\n",
        "Lucky for us, our dataset has none of these problems!"
      ]
    },
    {
      "cell_type": "code",
      "metadata": {
        "id": "R63265yXNs8m",
        "colab": {
          "base_uri": "https://localhost:8080/",
          "height": 1000
        },
        "outputId": "eb03b5e1-d37d-463a-c771-a5c1bfe52753"
      },
      "source": [
        "def plot_label_distribution(labels, split):\n",
        "    # Plot a histogram with the given title\n",
        "    plt.title(f\"{split} distribution\")\n",
        "    plt.hist(labels, bins=10)\n",
        "    # Label the axes\n",
        "    plt.xlabel(\"Label value\")\n",
        "    plt.ylabel(\"Num examples\")\n",
        "    # Add the class labels along the x axis\n",
        "    plt.xticks(range(10))\n",
        "    plt.show()\n",
        "\n",
        "# Plot the distribution of each partition\n",
        "plot_label_distribution(train_labels, \"Train\")\n",
        "plot_label_distribution(val_labels, \"Validation\")\n",
        "plot_label_distribution(train_labels, \"Test\")"
      ],
      "execution_count": 34,
      "outputs": [
        {
          "output_type": "display_data",
          "data": {
            "text/plain": [
              "<Figure size 640x480 with 1 Axes>"
            ],
            "image/png": "[encoded data removed]"
          },
          "metadata": {}
        },
        {
          "output_type": "display_data",
          "data": {
            "text/plain": [
              "<Figure size 640x480 with 1 Axes>"
            ],
            "image/png": "[encoded data removed]"
          },
          "metadata": {}
        },
        {
          "output_type": "display_data",
          "data": {
            "text/plain": [
              "<Figure size 640x480 with 1 Axes>"
            ],
            "image/png": "[encoded data removed]"
          },
          "metadata": {}
        }
      ]
    },
    {
      "cell_type": "markdown",
      "metadata": {
        "id": "DOsVo2IRjBXU"
      },
      "source": [
        "## Create the Datasets and DataLoaders\n",
        "In the previous lab we used PyTorch's `TensorDataset`, which is great for generic tabular data. However you'll often require custom behaviour from your dataset, which makes writing your own dataset class a great idea. First take a look at a very simple example of how to write a pytorch dataset class in lecture 2.\n",
        "\n",
        "<font color='red'>In the next cell, write a basic Dataset class which just implements the required methods</font>:\n",
        " * `__init__`: initialises Dataset\n",
        " * `__len__`: returns the number of examples in the dataset\n",
        " * `__getitem__`: returns the input data and label for a specific index"
      ]
    },
    {
      "cell_type": "code",
      "metadata": {
        "id": "IDsMDMEHFBJx"
      },
      "source": [
        "# Import the base class\n",
        "from torch.utils.data import Dataset\n",
        "\n",
        "# Subclassing in Python just requires adding the class name in parentheses\n",
        "class MNISTDataset(Dataset):\n",
        "    # The __init__ method is similar to a constructor like you find in other\n",
        "    # languages. We will take three arguments:\n",
        "    #  - images: the numpy array of all images for this dataset\n",
        "    #  - labels: the numpy array of labels for our images\n",
        "\n",
        "    def __init__(self, images, labels):\n",
        "        # TODO: Store the images and labels as member variables\n",
        "        #       self.images and self.labels respectively.\n",
        "        self.images = images\n",
        "        self.labels = labels\n",
        "\n",
        "\n",
        "    def __len__(self):\n",
        "        # TODO: Return the length (number of images) of the dataset\n",
        "       return len(self.images)\n",
        "\n",
        "    def __getitem__(self, idx):\n",
        "        # TODO: Store in image and label for the particular image and corresponding label\n",
        "        #       at index idx. Get these from the member variables you initialized in _init_\n",
        "        # image = ...\n",
        "        # label = ...\n",
        "        image = self.images[idx]\n",
        "        label = self.labels[idx]\n",
        "\n",
        "        return image, label"
      ],
      "execution_count": 51,
      "outputs": []
    },
    {
      "cell_type": "markdown",
      "metadata": {
        "id": "NBPpys0FrGq2"
      },
      "source": [
        "Now we can initialise an MNISTDataset for each of our train, valdiation and test partitions.\n",
        "\n",
        "<font color='red'>Update the next cell to initialise three MNISTDataset objects, one for each of the training, validation, and test partitions.</font>"
      ]
    },
    {
      "cell_type": "code",
      "metadata": {
        "id": "CZhZcophFBHU"
      },
      "source": [
        "\n",
        "# This line constructs the train_dataset object using the training images, labels\n",
        "# and image transforms.\n",
        "train_dataset = MNISTDataset(train_images,\n",
        "                             train_labels)\n",
        "\n",
        "# TODO: Instantiate the val and test MNISTDataset objects with the correct arguments\n",
        "\n",
        "val_dataset = MNISTDataset(val_images, val_labels)\n",
        "test_dataset = MNISTDataset(test_images, test_labels)\n"
      ],
      "execution_count": 52,
      "outputs": []
    },
    {
      "cell_type": "markdown",
      "metadata": {
        "id": "yCj_CQ8JowjD"
      },
      "source": [
        "Now lets take our newly created datasets for a spin! Get the first element of the training dataset and display it."
      ]
    },
    {
      "cell_type": "code",
      "metadata": {
        "id": "AEyRsvDmo-dd",
        "colab": {
          "base_uri": "https://localhost:8080/",
          "height": 159
        },
        "outputId": "01d35aa1-e39c-44bc-92e2-1e1652b22a8a"
      },
      "source": [
        "# Store in the variable first_training_image the first image from the training dataset.\n",
        "first_training_image, first_training_label = train_dataset[0]\n",
        "\n",
        "# display the first training example\n",
        "images= [first_training_image]\n",
        "labels = [first_training_label]\n",
        "plot_some_images(images, labels, 1)"
      ],
      "execution_count": 53,
      "outputs": [
        {
          "output_type": "display_data",
          "data": {
            "text/plain": [
              "<Figure size 1200x600 with 1 Axes>"
            ],
            "image/png": "[encoded data removed]"
          },
          "metadata": {}
        }
      ]
    },
    {
      "cell_type": "markdown",
      "metadata": {
        "id": "4AZsUSbyrmO1"
      },
      "source": [
        "Almost there! We have Dataset objects and now we just need to create DataLoaders. Recall that a [DataLoader](https://pytorch.org/docs/stable/data.html#torch.utils.data.DataLoader) is used to shuffle data and gather it into batches, so all we need to provide as arguments are the `Dataset`, batch size, and a boolean of whether we want to shuffle the data.\n",
        "\n",
        "<font color='red'>Update the next cell to initialise three DataLoader objects, one for each of the training, validation, and test Datasets."
      ]
    },
    {
      "cell_type": "code",
      "metadata": {
        "id": "BhdJYjscrh59"
      },
      "source": [
        "from torch.utils.data import DataLoader\n",
        "\n",
        "BATCH_SIZE = 64\n",
        "\n",
        "# Create the train dataloader using the train_dataset\n",
        "# Note we ask the data loader to randomly suffle the data when loading them.\n",
        "train_loader = DataLoader(train_dataset, batch_size=BATCH_SIZE, shuffle=True)\n",
        "\n",
        "# TODO: Create the val and test dataloaders.\n",
        "val_loader = DataLoader(val_dataset, batch_size=BATCH_SIZE)\n",
        "test_loader = DataLoader(test_dataset, batch_size=BATCH_SIZE)\n"
      ],
      "execution_count": 54,
      "outputs": []
    },
    {
      "cell_type": "markdown",
      "metadata": {
        "id": "PwngGX7bzHF0"
      },
      "source": [
        "Now that we have a dataloader setup. Lets try to display the first 16 images in the first training batch."
      ]
    },
    {
      "cell_type": "code",
      "metadata": {
        "id": "PVTxrT3azPjl",
        "colab": {
          "base_uri": "https://localhost:8080/",
          "height": 521
        },
        "outputId": "ec1cb150-a9c1-4800-b63d-17ecc31acf87"
      },
      "source": [
        "for batch in train_loader:\n",
        "  images, labels = batch\n",
        "  plot_some_images(images, labels, 16)\n",
        "  break\n"
      ],
      "execution_count": 56,
      "outputs": [
        {
          "output_type": "display_data",
          "data": {
            "text/plain": [
              "<Figure size 1200x600 with 16 Axes>"
            ],
            "image/png": "[encoded data removed]"
          },
          "metadata": {}
        }
      ]
    },
    {
      "cell_type": "markdown",
      "metadata": {
        "id": "vc_gO2qiqjH-"
      },
      "source": [
        "Lets now inspect the shape of the input data and see if it is what we want."
      ]
    },
    {
      "cell_type": "code",
      "metadata": {
        "id": "YFYQJnfhqqew",
        "colab": {
          "base_uri": "https://localhost:8080/"
        },
        "outputId": "b14e794c-5ab9-4757-df0b-3ef0aa91df88"
      },
      "source": [
        "for batch in train_loader:\n",
        "  images, labels = batch\n",
        "  print(\"images shape: \", images.shape)\n",
        "  print(\"labels shape: \", labels.shape)\n",
        "  break"
      ],
      "execution_count": 57,
      "outputs": [
        {
          "output_type": "stream",
          "name": "stdout",
          "text": [
            "images shape:  torch.Size([64, 28, 28, 1])\n",
            "labels shape:  torch.Size([64])\n"
          ]
        }
      ]
    },
    {
      "cell_type": "markdown",
      "metadata": {
        "id": "yXe4BVuOsC7Z"
      },
      "source": [
        "The image shape of \\[64, 28, 28, 1\\] maps to \\[ batch size = 64, height = 28, width = 28, number of channels = 1\\]. The images have a single channel since it is just black and white. Turns out this is not the shape we want. Convolutional layers in pytorch expect the input to be shape \\[ batch size, number of channels, height, width\\]. So we need to end up with shape \\[64, 1, 28, 28\\]   How can make the data the right shape? We could try reshape. But that would give us the wrong answer since reshape just reinterprets the same piece of memory in a different way. We actually have to move stuff around so that the number of channels dimension is moved from the 4th dimension to the 2nd dimension. We need to transpose the data. Take a look at the transpose slide in lecture 2 to see how you can do that. There it shows how to use the permute function pytorch to transpose the data. Then test it in the cell below."
      ]
    },
    {
      "cell_type": "code",
      "metadata": {
        "id": "KW-nFOBsutPg",
        "colab": {
          "base_uri": "https://localhost:8080/"
        },
        "outputId": "a69facc2-70cb-4318-9e99-af31f2f1945f"
      },
      "source": [
        "for batch in train_loader:\n",
        "  images, labels = batch\n",
        "\n",
        "  # TODO: write code to transpose images so their shape become  [64, 1, 28, 28]\n",
        "  images = images.permute(0, 3, 1, 2)\n",
        "\n",
        "\n",
        "  print(\"images shape: \", images.shape)\n",
        "  break\n",
        "\n"
      ],
      "execution_count": 58,
      "outputs": [
        {
          "output_type": "stream",
          "name": "stdout",
          "text": [
            "images shape:  torch.Size([64, 1, 28, 28])\n"
          ]
        }
      ]
    },
    {
      "cell_type": "markdown",
      "metadata": {
        "id": "cYjwDoe4s6Hj"
      },
      "source": [
        "## Set Up for Training\n",
        "That's the end of data loading, so now we can move on to the fun stuff!"
      ]
    },
    {
      "cell_type": "markdown",
      "metadata": {
        "id": "CTNzwSULtBNC"
      },
      "source": [
        "### Enable GPU Training *(if available)*\n",
        "We'll use the same code as last time to use the GPU for training if possible."
      ]
    },
    {
      "cell_type": "code",
      "metadata": {
        "id": "oYN51BZiFBFF",
        "colab": {
          "base_uri": "https://localhost:8080/"
        },
        "outputId": "070e5f19-dc42-4521-aabb-3711c51265ce"
      },
      "source": [
        "import torch\n",
        "# By default we'll assume that GPU acceleration isn't available\n",
        "device = torch.device(\"cpu\")\n",
        "\n",
        "# Check if GPU acceleration is available (requires a CUDA-compatible GPU) and\n",
        "# set the device variable accordingly. If the computer has more than one GPU,\n",
        "# you can specify which one by replacing 0 with a different index\n",
        "if torch.cuda.is_available():\n",
        "    device = torch.device(\"cuda:0\")\n",
        "    torch.cuda.set_device(device)\n",
        "\n",
        "print(\"Training on\", device)"
      ],
      "execution_count": 59,
      "outputs": [
        {
          "output_type": "stream",
          "name": "stdout",
          "text": [
            "Training on cuda:0\n"
          ]
        }
      ]
    },
    {
      "cell_type": "markdown",
      "metadata": {
        "id": "yj4kh4Q6tLpX"
      },
      "source": [
        "### Define the Model\n",
        "We'll start with a basic Multilayer Perceptron like last lab before building more complex models a little later. The MLP has been partially implemented for you."
      ]
    },
    {
      "cell_type": "markdown",
      "metadata": {
        "id": "MOvgHTtYSNhZ"
      },
      "source": [
        "#### Multilayer Perceptron\n",
        "\n",
        "As we're dealing with image data instead of tabular data, the input shape is incompatible with MLPs - they expect the inputs to be shaped `[batch_size, n]`, where `n` is the size of some feature vector. \\\n",
        "To make our image data fit this description, we will combine the last three dimensions of the image data: \\\n",
        "`[batch_size, num_channels, height, width] => [batch_size, num_channels*height*width]`.\n",
        "\n",
        "Lucky for us, PyTorch has a built in module for this:\n",
        "\n",
        "**nn.Flatten** \\\n",
        "This module takes a tensor of any shape, and flattens it so that it's appropriate for a linear layer. It takes no arguments.\n",
        "\n",
        "Let's look at an example before moving on:"
      ]
    },
    {
      "cell_type": "code",
      "metadata": {
        "id": "Qs__vqSujt6Y",
        "colab": {
          "base_uri": "https://localhost:8080/"
        },
        "outputId": "e54b80d1-414a-4595-cb17-df191facccbd"
      },
      "source": [
        "import torch.nn as nn\n",
        "\n",
        "# Create some fake data - a batch of 2 images with 1 channel, height and width both 28 pixels\n",
        "dummy_data = torch.ones(2, 28, 28)\n",
        "print(dummy_data.shape)\n",
        "\n",
        "# Create a flatten layer to combine the last three dimensions\n",
        "my_flatten = nn.Flatten()\n",
        "\n",
        "# Pass the images through the flatten layer\n",
        "flattened = my_flatten(dummy_data)\n",
        "\n",
        "print(flattened.shape)"
      ],
      "execution_count": 60,
      "outputs": [
        {
          "output_type": "stream",
          "name": "stdout",
          "text": [
            "torch.Size([2, 28, 28])\n",
            "torch.Size([2, 784])\n"
          ]
        }
      ]
    },
    {
      "cell_type": "markdown",
      "metadata": {
        "id": "IaJnoeCAj7uV"
      },
      "source": [
        "The last three dimensions have been combined, so the output shape is `[2, 1 * 28 * 28] => [2, 784]`\n",
        "\n",
        "Next up, the model. Write an MLP model that takes input of the following shape \\[batch size, number of channels =1, height = 28, width = 28\\] it then puts the data into the following layers:\n",
        "\n",
        "1.   Flatten the tensor\n",
        "2.   Linear layer that outputs 32 neurons\n",
        "3.   ReLU\n",
        "4.   Linear layer that outputs `output_size` neurons\n",
        "\n"
      ]
    },
    {
      "cell_type": "code",
      "metadata": {
        "id": "oD4dUR5v_BnA"
      },
      "source": [
        "# Custom models need to subclass nn.Module\n",
        "class MLP(nn.Module):\n",
        "    def __init__(self,\n",
        "                 device,\n",
        "                 input_size=1*28*28, # default to num_channels * height * width\n",
        "                 output_size=10      # default to the number of classes\n",
        "                 ):\n",
        "        super().__init__()\n",
        "\n",
        "        # Write the classifier layers here.\n",
        "        self.seq = nn.Sequential(\n",
        "\n",
        "            ## TODO: add the following layers\n",
        "            #        Flatten the tensor\n",
        "            #        Linear layer that outputs 32 neurons\n",
        "            #        ReLU\n",
        "            #        Linear layer that outputs output_size neurons\n",
        "            nn.Flatten(),\n",
        "            nn.Linear(input_size, 32),\n",
        "            nn.ReLU(),\n",
        "            nn.Linear(32, output_size)\n",
        "        )\n",
        "        # Transfer the model weights to the GPU\n",
        "        self.to(device)\n",
        "\n",
        "    # The forward method takes input values and returns predictions. We just need\n",
        "    # to pass the inputs through the layers we defined in __init__\n",
        "    def forward(self, x):\n",
        "        return self.seq(x)"
      ],
      "execution_count": 61,
      "outputs": []
    },
    {
      "cell_type": "markdown",
      "metadata": {
        "id": "r2U45X8AnQ6S"
      },
      "source": [
        "We'll build more interesting models a bit later, even with such a simple model you should expect a test accuracy of almost 95%."
      ]
    },
    {
      "cell_type": "markdown",
      "metadata": {
        "id": "kP76mJXUHIxK"
      },
      "source": [
        "#Simple Train, Validation and Test Loop\n",
        "We make some small changes to the simple training and test loop that we used for lab02b here. This time lets plot the learning curve and accuracy using something nice instead of just printing it all on the screen. We will use tensorboard to plot the learning curves instead.\n",
        "The way we use tensorboard is to first write a log of the values we want to monitor into a file. Then we use tensorboard to display the contents of the log files. Each time we re-run the training loop we attach a different time stamp to the log file. This way we can separate the different runs from each other.\n",
        "\n",
        "To look at log files or delete the log files, click on the folder icon on the left pane of this notebook.\n",
        "If you ever want to delete **all** the log files at once you can use the following command: *!rm -rf logs*.  You can find this code in the last cell of the notebook."
      ]
    },
    {
      "cell_type": "code",
      "source": [
        "pip install torchmetrics"
      ],
      "metadata": {
        "id": "_3UxeSasYHh5",
        "colab": {
          "base_uri": "https://localhost:8080/"
        },
        "outputId": "0b31be09-ea5c-4124-af87-fea3549465bd"
      },
      "execution_count": 62,
      "outputs": [
        {
          "output_type": "stream",
          "name": "stdout",
          "text": [
            "Requirement already satisfied: torchmetrics in /usr/local/lib/python3.10/dist-packages (1.1.0)\n",
            "Requirement already satisfied: numpy>1.20.0 in /usr/local/lib/python3.10/dist-packages (from torchmetrics) (1.23.5)\n",
            "Requirement already satisfied: torch>=1.8.1 in /usr/local/lib/python3.10/dist-packages (from torchmetrics) (2.0.1+cu118)\n",
            "Requirement already satisfied: packaging in /usr/local/lib/python3.10/dist-packages (from torchmetrics) (23.1)\n",
            "Requirement already satisfied: lightning-utilities>=0.8.0 in /usr/local/lib/python3.10/dist-packages (from torchmetrics) (0.9.0)\n",
            "Requirement already satisfied: typing-extensions in /usr/local/lib/python3.10/dist-packages (from lightning-utilities>=0.8.0->torchmetrics) (4.7.1)\n",
            "Requirement already satisfied: filelock in /usr/local/lib/python3.10/dist-packages (from torch>=1.8.1->torchmetrics) (3.12.2)\n",
            "Requirement already satisfied: sympy in /usr/local/lib/python3.10/dist-packages (from torch>=1.8.1->torchmetrics) (1.12)\n",
            "Requirement already satisfied: networkx in /usr/local/lib/python3.10/dist-packages (from torch>=1.8.1->torchmetrics) (3.1)\n",
            "Requirement already satisfied: jinja2 in /usr/local/lib/python3.10/dist-packages (from torch>=1.8.1->torchmetrics) (3.1.2)\n",
            "Requirement already satisfied: triton==2.0.0 in /usr/local/lib/python3.10/dist-packages (from torch>=1.8.1->torchmetrics) (2.0.0)\n",
            "Requirement already satisfied: cmake in /usr/local/lib/python3.10/dist-packages (from triton==2.0.0->torch>=1.8.1->torchmetrics) (3.27.2)\n",
            "Requirement already satisfied: lit in /usr/local/lib/python3.10/dist-packages (from triton==2.0.0->torch>=1.8.1->torchmetrics) (16.0.6)\n",
            "Requirement already satisfied: MarkupSafe>=2.0 in /usr/local/lib/python3.10/dist-packages (from jinja2->torch>=1.8.1->torchmetrics) (2.1.3)\n",
            "Requirement already satisfied: mpmath>=0.19 in /usr/local/lib/python3.10/dist-packages (from sympy->torch>=1.8.1->torchmetrics) (1.3.0)\n"
          ]
        }
      ]
    },
    {
      "cell_type": "code",
      "metadata": {
        "id": "JPKPPcNDkJ2Z",
        "colab": {
          "base_uri": "https://localhost:8080/",
          "height": 448,
          "referenced_widgets": [
            "136f22d7b98449538e55053e5f5725c7",
            "a0f0a0ac5bcc429eb54a2d8927106079",
            "9613a1dbee4148969d78b455555605a8",
            "6d5a43aa2dff42b799ed0b60d5d1e32b",
            "87858579f4204a898814487a27948331",
            "60b42c2d8906481ab3d7a826f8cd3e93",
            "a91644bf7ec442f396b016f106ade55a",
            "7111f5cc7a02405d9d25cdf897587a8a",
            "22251a63e1db419da3d0c7987b88293b",
            "96262ae16e414a70b2c45a6f4d966f6e",
            "717e23023a8b4e64b130e55ca320726b"
          ]
        },
        "outputId": "99443465-f001-4504-a13f-dd6f37cf1493"
      },
      "source": [
        "# tqdm can be used to print a nice progress bar during training\n",
        "from tqdm.notebook import tqdm\n",
        "from datetime import datetime\n",
        "import torchmetrics\n",
        "from torch.utils.tensorboard import SummaryWriter\n",
        "import torch.optim as optim\n",
        "\n",
        "# TODO: change exp_name whenever you try a different model or change\n",
        "#       something in your model. It is used for tensorboard logging.\n",
        "exp_name = \"MLP version 1\"\n",
        "\n",
        "# The SummaryWriter requires a directory path to write logs. We will construct a\n",
        "# string using the exp_name and a date attached to the end. This way if we run the\n",
        "# same experiment twice it will be listed separate on tensorboard.\n",
        "log_name = \"logs/\" + exp_name + f\" {datetime.now()}\"\n",
        "print(\"Tensorboard logs will be written to:\", log_name)\n",
        "writer = SummaryWriter(log_name)\n",
        "\n",
        "criterion = nn.CrossEntropyLoss()\n",
        "\n",
        "# Use MLP as the model\n",
        "model = MLP(device)\n",
        "\n",
        "# Use the Adam optimizer with initial learning rate set to 0.001\n",
        "optimizer = torch.optim.Adam(model.parameters(), lr=0.0001)\n",
        "\n",
        "#initialize metric\n",
        "train_accuracy = torchmetrics.Accuracy(task = 'multiclass', num_classes = 10).to(device)\n",
        "val_accuracy = torchmetrics.Accuracy(task = 'multiclass', num_classes = 10).to(device)\n",
        "\n",
        "# The number of times we loop over the entire dataset\n",
        "num_epochs = 10\n",
        "\n",
        "for epoch in tqdm(range(num_epochs)):\n",
        "\n",
        "    # The following is computed for every complete pass through the dataset\n",
        "    epoch_train_loss = 0.0\n",
        "    epoch_accuracy = 0.0\n",
        "\n",
        "    for data in train_loader:\n",
        "\n",
        "        images, labels = data\n",
        "        images, labels = images.to(device), labels.to(device)\n",
        "\n",
        "        #TODO: take the permute code you wrote in one of the early cells and use\n",
        "        #      it here to permute the images tensor so that it has the right shape of [64, 1, 28, 28]\n",
        "        #      images = ...\n",
        "        images = images.permute(0,3,1,2)\n",
        "\n",
        "        # Zero the parameter gradients\n",
        "        optimizer.zero_grad()\n",
        "\n",
        "        # Forward\n",
        "        outputs = model(images)\n",
        "\n",
        "        # Compute the loss using the loss function\n",
        "        loss = criterion(outputs, labels)\n",
        "        epoch_train_loss += loss.item()\n",
        "\n",
        "        # Perform backprop using the loss\n",
        "        loss.backward()\n",
        "        optimizer.step()\n",
        "\n",
        "        # Calculate accuracy for this batch\n",
        "        acc = train_accuracy(outputs, labels)\n",
        "\n",
        "    # adds the training loss and accuracy to tensorboard\n",
        "    writer.add_scalar(\"Loss/training\", epoch_train_loss, epoch)\n",
        "    writer.add_scalar(\"Accuracy/training\", train_accuracy.compute(), epoch)\n",
        "\n",
        "    # print training statistics\n",
        "    print('epoch: %d loss: %.3f' % (epoch + 1, epoch_train_loss / len(train_loader)))\n",
        "    print('epoch: %d accuracy: %.3f' % (epoch + 1, train_accuracy.compute()))\n",
        "\n",
        "    # reset for the next epoch\n",
        "    train_accuracy.reset()\n",
        "    # The code below computes the validation results\n",
        "    for data in val_loader:\n",
        "          images, labels = data\n",
        "          images, labels = images.to(device), labels.to(device)\n",
        "\n",
        "          # TODO: need to put the permute function call here too.\n",
        "          images = images.permute(0,3,1,2)\n",
        "\n",
        "          # Put the model into eval mode and disable gradient calculations\n",
        "          model.eval()\n",
        "          with torch.no_grad():\n",
        "              # Perform inference on the current batch of inputs\n",
        "              outputs = model(images)\n",
        "\n",
        "          acc = val_accuracy(outputs, labels)\n",
        "    # adds the validation accuracy to tensorboard\n",
        "    writer.add_scalar(\"Accuracy/validation\", val_accuracy.compute(), epoch)\n",
        "    # reset for the next epoch\n",
        "    val_accuracy.reset()\n",
        "\n",
        "print(\"finished training\")\n",
        "test_accuracy = torchmetrics.Accuracy(task = 'multiclass', num_classes = 10).to(device)\n",
        "test_inputs = []\n",
        "test_predictions = []\n",
        "test_targets = []\n",
        "# We can compute the final test accuracy here\n",
        "for data in test_loader:\n",
        "  images, labels = data\n",
        "  images, labels = images.to(device), labels.to(device)\n",
        "\n",
        "  images = images.permute(0,3,1,2)\n",
        "\n",
        "  test_inputs.extend(images.detach().cpu().numpy())\n",
        "  test_targets.extend(labels.detach().cpu().numpy())\n",
        "\n",
        "  # TODO: need to put the permute function call here too.\n",
        "  # test_targets.permute(0, 3, 1, 2)\n",
        "\n",
        "  # Put the model into eval mode and disable gradient calculations\n",
        "  model.eval()\n",
        "  with torch.no_grad():\n",
        "      # Perform inference on the current batch of inputs\n",
        "      outputs = model(images)\n",
        "      test_predictions.extend(outputs.detach().cpu().numpy())\n",
        "\n",
        "  acc = test_accuracy(outputs, labels)\n",
        "\n",
        "# Convert class prediction scores to the digits they correspond\n",
        "test_predictions = np.argmax(test_predictions, 1)\n",
        "test_inputs = np.array(test_inputs)\n",
        "print(\"The final test accuracy is: \", test_accuracy.compute())\n",
        "\n",
        "# reset internal state to make the metric ready for new data\n",
        "test_accuracy.reset()\n"
      ],
      "execution_count": 65,
      "outputs": [
        {
          "output_type": "stream",
          "name": "stdout",
          "text": [
            "Tensorboard logs will be written to: logs/MLP version 1 2023-08-25 06:30:50.794826\n"
          ]
        },
        {
          "output_type": "display_data",
          "data": {
            "text/plain": [
              "  0%|          | 0/10 [00:00<?, ?it/s]"
            ],
            "application/vnd.jupyter.widget-view+json": {
              "version_major": 2,
              "version_minor": 0,
              "model_id": "136f22d7b98449538e55053e5f5725c7"
            }
          },
          "metadata": {}
        },
        {
          "output_type": "stream",
          "name": "stdout",
          "text": [
            "epoch: 1 loss: 2.148\n",
            "epoch: 1 accuracy: 0.558\n",
            "epoch: 2 loss: 0.574\n",
            "epoch: 2 accuracy: 0.840\n",
            "epoch: 3 loss: 0.400\n",
            "epoch: 3 accuracy: 0.892\n",
            "epoch: 4 loss: 0.318\n",
            "epoch: 4 accuracy: 0.912\n",
            "epoch: 5 loss: 0.266\n",
            "epoch: 5 accuracy: 0.926\n",
            "epoch: 6 loss: 0.233\n",
            "epoch: 6 accuracy: 0.935\n",
            "epoch: 7 loss: 0.209\n",
            "epoch: 7 accuracy: 0.941\n",
            "epoch: 8 loss: 0.190\n",
            "epoch: 8 accuracy: 0.946\n",
            "epoch: 9 loss: 0.176\n",
            "epoch: 9 accuracy: 0.950\n",
            "epoch: 10 loss: 0.162\n",
            "epoch: 10 accuracy: 0.953\n",
            "finished training\n",
            "The final test accuracy is:  tensor(0.9393, device='cuda:0')\n"
          ]
        }
      ]
    },
    {
      "cell_type": "markdown",
      "metadata": {
        "id": "dZ9CEuyywUOZ"
      },
      "source": [
        "## Tensorboard\n",
        "\n",
        "The code below will launch tensorboard so you can see the history of your training. You can reuse this cell whenever you want to view the effects of your training. You may need to press the refresh button on tensorboard to see it. The tensorboard refresh is often quite slow, so you may need to wait some time before the log values get reflected in tensorboard.\n",
        "\n",
        "\n"
      ]
    },
    {
      "cell_type": "code",
      "metadata": {
        "id": "7Wc_mAwGHHSz"
      },
      "source": [
        "%load_ext tensorboard\n",
        "%tensorboard --logdir logs"
      ],
      "execution_count": null,
      "outputs": []
    },
    {
      "cell_type": "markdown",
      "metadata": {
        "id": "xWFX2kiD2R3Q"
      },
      "source": [
        "### Visualise the Results\n",
        "We won't do much visualisation, just display some images along with the classes that the model predicted. Run the next cell to see that.\n",
        "\n",
        "#### Model Predictions"
      ]
    },
    {
      "cell_type": "code",
      "metadata": {
        "id": "vvufBwDMMpHV",
        "colab": {
          "base_uri": "https://localhost:8080/",
          "height": 521
        },
        "outputId": "9d41106a-228e-45c6-cd23-6210823f1698"
      },
      "source": [
        "plot_some_images(test_inputs, test_predictions)"
      ],
      "execution_count": 67,
      "outputs": [
        {
          "output_type": "display_data",
          "data": {
            "text/plain": [
              "<Figure size 1200x600 with 16 Axes>"
            ],
            "image/png": "[encoded data removed]"
          },
          "metadata": {}
        }
      ]
    },
    {
      "cell_type": "markdown",
      "metadata": {
        "id": "2tA4pLjRgpS2"
      },
      "source": [
        "### Incorrect Model Predictions\n",
        "\n",
        "Sure, it does a great job, but it's probably more interesting to see which examples it got wrong. We'll look at that in the next cell."
      ]
    },
    {
      "cell_type": "code",
      "metadata": {
        "id": "e26Ojb79g7Pe",
        "colab": {
          "base_uri": "https://localhost:8080/",
          "height": 521
        },
        "outputId": "e9828f47-cbf6-454a-f407-0268230db9f5"
      },
      "source": [
        "# Get the indices of the examples the model predicted incorrectly\n",
        "incorrect_pred_indices = np.where(np.not_equal(test_predictions, test_targets))\n",
        "# Extract the incorrectly predicted images and what number the model thought they were\n",
        "incorrectly_predicted_images = test_inputs[incorrect_pred_indices]\n",
        "incorrectly_predicted_labels = test_predictions[incorrect_pred_indices]\n",
        "\n",
        "plot_some_images(incorrectly_predicted_images, incorrectly_predicted_labels)"
      ],
      "execution_count": 68,
      "outputs": [
        {
          "output_type": "display_data",
          "data": {
            "text/plain": [
              "<Figure size 1200x600 with 16 Axes>"
            ],
            "image/png": "[encoded data removed]"
          },
          "metadata": {}
        }
      ]
    },
    {
      "cell_type": "markdown",
      "metadata": {
        "id": "_BBKXbfQ4ZWq"
      },
      "source": [
        "## Implement More Models\n",
        "The rest of the lab will be spent implementing different models, then training and observing the results. After implementing each model, return to the \"Train the Model\" section and replace the `model = ...` line with your new model class and renaming your experiment by setting `exp_name = ...` to reflect the new model before re-training."
      ]
    },
    {
      "cell_type": "markdown",
      "metadata": {
        "id": "EnqRw6ZDh8Zl"
      },
      "source": [
        "#### Convolutional Network\n",
        "\n",
        "The MLP we built does quite a good job, but it's not really appropriate for our task. We usually use 2D convolutions when performing image-based tasks, so we'll now implement that! Before we actually write the model, we need to quickly learn a bit about the new layers we plan on using.\n",
        "\n",
        "**nn.Conv2d** \\\n",
        "This function creates a 2D convolution layer, and requires three arguments:\n",
        " * `in_channels` - the number of channels in the input\n",
        " * `out_channels` - the number of channels to output - we can make this value whatever we like.\n",
        " * `kernel_size` - the size of the convolution kernel - we usually use `3`"
      ]
    },
    {
      "cell_type": "code",
      "metadata": {
        "id": "YvoYvA_iPXde",
        "colab": {
          "base_uri": "https://localhost:8080/"
        },
        "outputId": "703ff2a6-16ed-4135-dc5c-23b459036708"
      },
      "source": [
        "# We'll use the same dummy data that we used before.\n",
        "dummy_data = torch.ones(2, 1, 28, 28)\n",
        "print(dummy_data.shape)\n",
        "\n",
        "# Create a 2d-conv layer that takes 1 input channel and outputs 4 channels using a 3x3 kernel\n",
        "my_conv = nn.Conv2d(in_channels=1, out_channels=4, kernel_size=3, stride=2, padding=1)\n",
        "\n",
        "# Pass the images through the conv layer\n",
        "convolved = my_conv(dummy_data)\n",
        "\n",
        "print(convolved.shape)"
      ],
      "execution_count": 71,
      "outputs": [
        {
          "output_type": "stream",
          "name": "stdout",
          "text": [
            "torch.Size([2, 1, 28, 28])\n",
            "torch.Size([2, 4, 14, 14])\n"
          ]
        }
      ]
    },
    {
      "cell_type": "markdown",
      "metadata": {
        "id": "fQ0FsiH9QRMv"
      },
      "source": [
        "Take a moment to look at the shapes.\n",
        "\n",
        "The number of channels changed from 1 to 4, matching the arguments we provided to the convolution layer.\n",
        "\n",
        "The image height and width changed from 28 to 26, as we didn't apply any padding to the conv layer.\n",
        "\n",
        "We can specify the amount of padding to apply, by providing the `padding` argument:"
      ]
    },
    {
      "cell_type": "code",
      "metadata": {
        "id": "Sm2_eXPlQ4_k"
      },
      "source": [
        "# Create a 2d-conv layer that maps from 1 channel to 4 channels with a 3x3 kernel\n",
        "# with padding of 1 pixel\n",
        "my_conv = nn.Conv2d(1, 4, 3, padding=1)\n",
        "\n",
        "# Pass the images through the conv layer\n",
        "convolved = my_conv(dummy_data)\n",
        "\n",
        "# Now the output height/width will be the same as the input\n",
        "print(convolved.shape)"
      ],
      "execution_count": null,
      "outputs": []
    },
    {
      "cell_type": "markdown",
      "metadata": {
        "id": "Jy0B-Ww2RCIT"
      },
      "source": [
        "When we use multiple convolution layers, we can choose any number of output channels, we just need to make sure that the number input channels matches on the following layer. E.g.\n",
        "\n",
        "```python\n",
        "# 1 input feature map goes to 4 output feature map\n",
        "my_conv1 = nn.Conv2d(1, 4, 3)\n",
        "# 4 input feature map goes to 8 output feature map\n",
        "my_conv2 = nn.Conv2d(4, 8, 3)\n",
        "# 8 input feature map goes to 16 output feature map\n",
        "my_conv3 = nn.Conv2d(8, 16, 3)\n",
        "# 16 input feature map goes to 20 output feature map\n",
        "my_conv4 = nn.Conv2d(16, 20, 3)\n",
        "```\n",
        "Note how the number of input channels for each conv layer matches the previous output."
      ]
    },
    {
      "cell_type": "markdown",
      "metadata": {
        "id": "9Sa1_2raRe1S"
      },
      "source": [
        "**nn.MaxPool2d** \\\n",
        "This module performs *spatial* max pooling.  It only requires a single argument - the kernel size. If we provide a kernel size of `2`, the height and width of the outputs will be half of the inputs.  This means the operator takes a 2 x 2 block of input values and returns a single max value. So you can see the height and width dimensions go from 28 to 14."
      ]
    },
    {
      "cell_type": "code",
      "metadata": {
        "id": "U4nGP4DiSBp-",
        "colab": {
          "base_uri": "https://localhost:8080/"
        },
        "outputId": "bb689f2d-6a92-4040-e416-95f329a9cadf"
      },
      "source": [
        "# Create a max pool layer with a 2x2 kernel\n",
        "my_pool = nn.MaxPool2d(2)\n",
        "\n",
        "print(dummy_data.shape)\n",
        "\n",
        "# Apply the layer to our dummy data\n",
        "pooled = my_pool(dummy_data)\n",
        "\n",
        "print(pooled.shape)"
      ],
      "execution_count": 72,
      "outputs": [
        {
          "output_type": "stream",
          "name": "stdout",
          "text": [
            "torch.Size([2, 1, 28, 28])\n",
            "torch.Size([2, 1, 14, 14])\n"
          ]
        }
      ]
    },
    {
      "cell_type": "markdown",
      "metadata": {
        "id": "DT6bVUYHhklJ"
      },
      "source": [
        "Cool, let's get to work building the model. One of the nice things about how PyTorch handles models is that we can build models composed of models. We're going to take advantage of this, and re-use the MLP from earlier.\n",
        "\n",
        "In a moment, you'll complete the implementation of the ConvNet class.\n",
        "We will stack some 2D convolution layers to extract image features from the inputs - this is known as a *feature extractor*. We will then provide those features as inputs to the MLP from earlier to make class predictions."
      ]
    },
    {
      "cell_type": "markdown",
      "metadata": {
        "id": "-urEBPmCpvjB"
      },
      "source": [
        "<font color='red'>In the next cell, complete the implementation of the ConvNet class.</font> \\\n",
        "This will require a few steps:\n",
        "\n",
        "**The `__init__` method:**\n",
        " 1. Initialise a `Sequential` module with the following layers:\n",
        "  * Conv2D mapping to 8 channels, with a kernel size of 3, no padding\n",
        "  * ReLU activation function\n",
        "  * MaxPool2D with a kernel size of 2\n",
        " 1. Initialise an `MLP` module (that we defined earlier)\n",
        "\n",
        "**The `forward` method:**\n",
        " 1. Pass the inputs through the feature extractor\n",
        " 1. Pass the outputs from step 1 through the MLP and return them\n"
      ]
    },
    {
      "cell_type": "code",
      "metadata": {
        "id": "A-eJkAluhfUZ"
      },
      "source": [
        "class ConvNet(nn.Module):\n",
        "    def __init__(self, device):\n",
        "        super().__init__()\n",
        "        # TODO 1: Initialise a Sequential module\n",
        "        # self.feature_extractor = nn.Sequential(...\n",
        "\n",
        "        # TODO 2: Initialise an MLP module\n",
        "        # self.mlp = MLP(...\n",
        "\n",
        "        # Transfer the model weights to the GPU\n",
        "        self.to(device)\n",
        "\n",
        "    # The forward method takes input values and returns predictions. We just need\n",
        "    # to pass the inputs through the layers we defined in __init__\n",
        "    def forward(self, x):\n",
        "        # TODO 1: Pass the inputs through the feature extractor\n",
        "        # features = ...\n",
        "\n",
        "        # print(\"features shape:\", features.shape)\n",
        "\n",
        "        # TODO 2: Pass the inputs through the MLP\n",
        "        # return ...\n"
      ],
      "execution_count": null,
      "outputs": []
    },
    {
      "cell_type": "markdown",
      "metadata": {
        "id": "egA2qpWIy2tA"
      },
      "source": [
        "Before going anywhere, let's see what happens when we pass some dummy data through the model.\n",
        "\n",
        "<font color='red'>Run the next cell and see what happens</font>"
      ]
    },
    {
      "cell_type": "code",
      "metadata": {
        "id": "1crMiQ88yDVE"
      },
      "source": [
        "# Construct the model\n",
        "net = ConvNet(device)\n",
        "\n",
        "# Try passing our dummy data through the model. We need to transfer the dummy\n",
        "# data to the GPU for it to work\n",
        "net(dummy_data.to(device))\n",
        "\n",
        "# The shape will be [2, batch, height, width], so we'll need to set the MLP input\n",
        "# size to be batch * height * width"
      ],
      "execution_count": null,
      "outputs": []
    },
    {
      "cell_type": "markdown",
      "metadata": {
        "id": "dHz6C387zIZS"
      },
      "source": [
        "**The model crashes!** This is because we didn't correctly set the input size to our MLP. It is still assuming that the input size is `1*28*28`, but because we put the images through some conv layers, this is no longer true.\n",
        "\n",
        "Although it's possible to calculate the size of `features`, it's easier to just print out its shape then update our code accordingly.\n",
        "\n",
        "<font color='red'>Uncomment the line which prints out the `features.shape` in the `forward` function of the `ConvNet` class, then re-run the above cell.</font>\n",
        "\n",
        "When you run the cell again, you'll see the shape printed is `[2, 8, 13, 13]`, meaning that the input size of the MLP should actually be `8 * 13 * 13 = 1352`.\n",
        "Update the MLP initialisation to use this value, then re-run the above cell. It shouldn't crash!"
      ]
    },
    {
      "cell_type": "markdown",
      "metadata": {
        "id": "K8PWyjs5023k"
      },
      "source": [
        "<font color='red'>When you're satisfied that you've fixed the above problem, comment out the line which prints out the features.shape in the forward function of the ConvNet class.</font> \\\n",
        "*We don't want it printing something every time the model makes a prediction!*\n",
        "\n",
        "Once that's done, return to the \"Train the Model\" section and see how the new model performs. \\\n",
        "**Don't forget to use your new model by replacing `MLP` with `ConvNet` and change the exp_name!**\n",
        "\n",
        "You should see a test accuracy of approximately 97%."
      ]
    },
    {
      "cell_type": "markdown",
      "metadata": {
        "id": "vpVnULrb5Zvz"
      },
      "source": [
        "#### Deep Convolutional Network\n",
        "We made a very shallow convolutional network, but we want to do *deep* learning! We'll remedy that by creating a similar network, but with three times as many convolutional layers.\n",
        "\n",
        "<font color='red'>In the next cell, copy and paste the code for your `ConvNet` and rename it `DeepConvNet`. Modify the `__init__` method so that it's three times as deep.</font>\n",
        "\n",
        "The layers in `self.feature_extractor` should be:\n",
        " * Conv2D mapping to 8 channels, kernel size 3, no padding\n",
        " * ReLU\n",
        " * MaxPool2D, kernel 2\n",
        " * Conv2D mapping to 16 channels, kernel size 3, no padding\n",
        " * ReLU\n",
        " * MaxPool2D, kernel 2\n",
        " * Conv2D mapping to 32 channels, kernel size 3, no padding\n",
        " * ReLU\n",
        " * MaxPool2D, kernel 2"
      ]
    },
    {
      "cell_type": "code",
      "metadata": {
        "id": "NEqdx3y15Zf8"
      },
      "source": [],
      "execution_count": null,
      "outputs": []
    },
    {
      "cell_type": "markdown",
      "metadata": {
        "id": "9GAw5KfA63W2"
      },
      "source": [
        "Now that the model is deeper, we again don't know what the correct input size for the MLP.\n",
        "<font color='red'>Uncomment the line which prints the features shape and run the below cell. Then, update the input size like you did previously.</font>\n",
        "\n",
        "*Don't forget to comment out the line again!*\n",
        "\n",
        "Your test accuracy should increase just slightly, as the closer you get to 100%, the harder it is to improve."
      ]
    },
    {
      "cell_type": "code",
      "metadata": {
        "id": "SJh8Pzvv60J0"
      },
      "source": [
        "# Construct the model\n",
        "net = DeepConvNet(device)\n",
        "\n",
        "# Try passing our dummy data through the model\n",
        "net(dummy_data.to(device))\n",
        "\n",
        "# The shape will be [2, batch, height, width], so we'll need to set the MLP input\n",
        "# size to be batch * height * width"
      ],
      "execution_count": null,
      "outputs": []
    },
    {
      "cell_type": "markdown",
      "metadata": {
        "id": "2RdmuRHt7Sn2"
      },
      "source": [
        "<font color='red'>When you're satisfied that you've fixed the above problem, comment out the print statement again and return to the \"Train the Model\" section to see how the new model performs.</font> \\\n",
        "**Don't forget to use your new model by replacing `ConvNet` with `DeepConvNet`!**"
      ]
    },
    {
      "cell_type": "markdown",
      "metadata": {
        "id": "VeDIzPh2z7lO"
      },
      "source": [
        "#### Dropout\n",
        "\n",
        "Dropout is a commonly used technique for classification tasks where neurons are randomly switched off during training, and has proven to improve generalisation capability. As usual, this is already provided by PyTorch:\n",
        "\n",
        "**nn.Dropout** \\\n",
        "Randomly switches off neurons during training, and is automatically disabled during testing as is required. Takes a single argument `p` - the probability for a neuron to be switched off. It also scales the tensor values proportional to `p` so the tensor has the same magnitude.\n",
        "\n",
        "It's a pretty simple layer, but we'll have a look at an example first anyway."
      ]
    },
    {
      "cell_type": "code",
      "metadata": {
        "id": "hLNeGRmX00JE"
      },
      "source": [
        "dummy_tensor = torch.ones(10)\n",
        "print(dummy_tensor)\n",
        "\n",
        "my_dropout = nn.Dropout(0.5)\n",
        "\n",
        "dropped = my_dropout(dummy_tensor)\n",
        "print(dropped)"
      ],
      "execution_count": null,
      "outputs": []
    },
    {
      "cell_type": "markdown",
      "metadata": {
        "id": "zxPrXuCu2GGx"
      },
      "source": [
        "Pretty easy to use, right? Approximately 50% of the neurons were turned off, and the remaining neurons were scaled by 200% to account for it.\n",
        "\n",
        "____\n",
        "\n",
        "Now we're going to implement another MLP, but with dropout enabled. Instead of copy and pasting the entire class and making modifications, we're going to take the more object-oriented path and just <font color='red'>subclass </font> it, changing the `__init__` method. If we don't implement the `forward` method again, it will automatically use the one defined in the superclass - `MLP`.\n",
        "\n",
        "<font color='red'>In the next cell, complete the implementation of `DropoutMLP` adding a `Dropout` layer with drop probability of `0.4` directly after the `Flatten` layer.</font>"
      ]
    },
    {
      "cell_type": "code",
      "metadata": {
        "id": "hWTYzYB_0JFq"
      },
      "source": [
        "# Note here we are subclassing MLP, this way we automatically get\n",
        "# all the member functions that already exist in the MLP class\n",
        "# we need need to override the parts we want to change. In this case it is\n",
        "# self.seq.\n",
        "class DropoutMLP(MLP):\n",
        "    def __init__(self,\n",
        "                 device,\n",
        "                 input_size=1*28*28, # default to num_channels * height * width\n",
        "                 output_size=10      # default to the number of classes\n",
        "                 ):\n",
        "        super().__init__(device, input_size, output_size)\n",
        "\n",
        "        # TODO: Add the dropout layer where appropriate\n",
        "        self.seq = nn.Sequential(\n",
        "            nn.Flatten(),\n",
        "\n",
        "            nn.Linear(input_size, 32),\n",
        "            nn.ReLU(),\n",
        "            nn.Linear(32, output_size)\n",
        "        )\n",
        "        # Transfer the model weights to the GPU\n",
        "        self.to(device)\n",
        "\n",
        "# Note how we don't need to implement the forward function, as it will just use\n",
        "# the implementation from the MLP class"
      ],
      "execution_count": null,
      "outputs": []
    },
    {
      "cell_type": "markdown",
      "metadata": {
        "id": "Yn1GvOoA3YkB"
      },
      "source": [
        "That was a little easier than copy-pasting the whole class, wasn't it? Now we'll use the same technique to implement a new conv net that uses the DropoutMLP class.\n",
        "\n",
        "<font color='red'>In the next cell, finish the implementation of the DropoutConvNet class using the new DropoutMLP class.</font>\n",
        "\n",
        "_As DropoutConvNet is a subclass of DeepConvNet, we don't need to implement the `forward` function, it will automatically use the superclass definition. So we take everything that existings in DeepConvNet and only override the self.mlp layer definition._"
      ]
    },
    {
      "cell_type": "code",
      "source": [
        "class DropoutConvNet(DeepConvNet):\n",
        "    def __init__(self, device):\n",
        "        super().__init__(device)\n",
        "        # TODO: Initialise the DropoutMLP with the appropriate arguments\n",
        "        # self.mlp = ...\n",
        "\n",
        "        # Transfer the model weights to the GPU\n",
        "        self.to(device)"
      ],
      "metadata": {
        "id": "NiEBXM4R0A_l"
      },
      "execution_count": null,
      "outputs": []
    },
    {
      "cell_type": "markdown",
      "metadata": {
        "id": "Vy7_mQNv4FnU"
      },
      "source": [
        "Nice work! Now you can return to the \"Train the Model\" section and see how the new model performs with dropout.\n",
        "\n",
        "**Don't forget to use your new model by replacing DeepConvNet with DropoutConvNet!**\n",
        "\n",
        "This should yield a small accuracy improvement."
      ]
    },
    {
      "cell_type": "markdown",
      "metadata": {
        "id": "9ggKw7Dr7kon"
      },
      "source": [
        "#### Batch Normalisation\n",
        "\n",
        "Batch normalisation is a frequently encountered layer type which applies normalisation across an entire batch at a time to stabilise training and improve results. The implementation and justification for batch norm is a bit complex, so it's lucky that the PyTorch interface is so neat and simple!\n",
        "\n",
        "**nn.BatchNorm2d** \\\n",
        "Applies normalisation to the given batch. Requires a single argument - the number of channels to be provided as input.\n",
        "\n",
        "It's worth noting that BatchNorm regularizes the model without the need for dropout. So people who use BatchNorm normally do not use dropout, so we're going to revert to the original MLP implementation instead of DropoutMLP.\n",
        "\n",
        "<font color='red'>In the next cell, finish the implementation of the BNConvNet class so that there's a `BatchNorm2d` layer after each `MaxPool2d`.</font>\n",
        "\n",
        "**Further (optional) information about batch norm + dropout can be found [here](https://arxiv.org/abs/1801.05134)*"
      ]
    },
    {
      "cell_type": "code",
      "metadata": {
        "id": "jZ-TydkrzzgY"
      },
      "source": [
        "# Note that we're subclassing DeepConvNet, so this model won't have dropout\n",
        "class BNConvNet(DeepConvNet):\n",
        "    def __init__(self, device):\n",
        "        super().__init__(device)\n",
        "        # TODO: Modify the Sequential layer by adding batch norm after each\n",
        "        # max pool layer\n",
        "        self.feature_extractor = nn.Sequential(\n",
        "            nn.Conv2d(1, 8, 3),\n",
        "            nn.ReLU(),\n",
        "            nn.MaxPool2d(2),\n",
        "\n",
        "\n",
        "\n",
        "            nn.Conv2d(8, 16, 3),\n",
        "            nn.ReLU(),\n",
        "            nn.MaxPool2d(2),\n",
        "\n",
        "\n",
        "            nn.Conv2d(16, 32, 3),\n",
        "            nn.ReLU(),\n",
        "            nn.MaxPool2d(2),\n",
        "\n",
        "\n",
        "        )\n",
        "\n",
        "        # Transfer the model weights to the GPU\n",
        "        self.to(device)"
      ],
      "execution_count": null,
      "outputs": []
    },
    {
      "cell_type": "markdown",
      "metadata": {
        "id": "CHp7aeQr73ti"
      },
      "source": [
        "When you've done so, jump back down to the \"Train the Model\" section and see how the new model performs with batch norm.\n",
        "\n",
        "**Don't forget to use your new model by replacing DropoutConvNet with BNConvNet!**\n",
        "\n",
        "You should see another small improvement to test accuracy."
      ]
    },
    {
      "cell_type": "markdown",
      "metadata": {
        "id": "S3QGgXpl7rWT"
      },
      "source": [
        "#### Skip Connections (Challenge!)\n",
        "\n",
        "The last kind of feature we'll be adding is skip connections, otherwise known as residual connections. There's no built-in way to do this with PyTorch, so we've written a little module of our own.\n",
        "\n",
        "This module already has two conv layers stored in `self.layer1` and `self.layer2`. The ⊕ is the element-wise addition of the two tensors, implemented like `t1 + t2`.\n",
        "\n",
        "<font color='red'>In the next cell, implement the `forward` method so that it behaves like the diagram below.</font>\n",
        "\n",
        "![skip-layer.png](data:image/png;base64,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)"
      ]
    },
    {
      "cell_type": "code",
      "metadata": {
        "id": "C3KOs8LE88YQ"
      },
      "source": [
        "class SkipBlock(nn.Module):\n",
        "    def __init__(self, input_channels, output_channels):\n",
        "        super().__init__()\n",
        "        self.layer1 = nn.Sequential(\n",
        "            nn.Conv2d(input_channels, output_channels, 3, padding=1),\n",
        "            nn.ReLU(),\n",
        "            nn.BatchNorm2d(output_channels)\n",
        "        )\n",
        "        self.layer2 = nn.Sequential(\n",
        "            nn.Conv2d(output_channels, output_channels, 3, padding=1),\n",
        "            nn.ReLU(),\n",
        "            nn.BatchNorm2d(output_channels)\n",
        "        )\n",
        "\n",
        "    def forward(self, x):\n",
        "        # TODO: Use the layers as described in the diagram above to first\n",
        "        #       make x2 equal the output of layer 1, then make x3 equal\n",
        "        #       to the output of layer 2. Then implement the + operation\n",
        "        #       at the end of the diagram somehow.\n",
        "        # x2 = ...\n",
        "        # x3 = ...\n",
        "        # return ...\n"
      ],
      "execution_count": null,
      "outputs": []
    },
    {
      "cell_type": "markdown",
      "metadata": {
        "id": "YpkzRgX8Eod2"
      },
      "source": [
        "Note how the layers we used in the SkipBlock module don't have max-pooling, and that padding has been added.\n",
        "\n",
        "The two tensors need to have the same shape to perform element-wise addition, thus it was necessary to remove max-pooling and add padding to the conv layers to ensure that the shapes don't change. As we still want max pooling, we will simply add this outside of the `SkipBlock`.\n",
        "\n",
        "The code for a conv net using our new skip block has been implemented for you in the next cell. Read through it carefullly."
      ]
    },
    {
      "cell_type": "code",
      "metadata": {
        "id": "yKQsD-_qf7g4"
      },
      "source": [
        "class SkipConvNet(nn.Module):\n",
        "    def __init__(self, device):\n",
        "        super().__init__()\n",
        "        # Use the new skip blocks\n",
        "        self.feature_extractor = nn.Sequential(\n",
        "            SkipBlock(1, 8),\n",
        "            nn.MaxPool2d(2),\n",
        "            SkipBlock(8, 16),\n",
        "            nn.MaxPool2d(2),\n",
        "            SkipBlock(16, 32),\n",
        "            nn.MaxPool2d(2),\n",
        "        )\n",
        "\n",
        "        # As we added more layers and changed padding, the MLP has a different\n",
        "        # input size\n",
        "        self.mlp = MLP(device, 32*3*3)\n",
        "\n",
        "        # Transfer the model weights to the GPU\n",
        "        self.to(device)\n",
        "\n",
        "    def forward(self, x):\n",
        "        features = self.feature_extractor(x)\n",
        "        return self.mlp(features)"
      ],
      "execution_count": null,
      "outputs": []
    },
    {
      "cell_type": "markdown",
      "metadata": {
        "id": "2sAlyK8RGIeC"
      },
      "source": [
        "That's the last model implementation done! Return to the \"Train the Model\" section and see how well this model performs now that we've made it deeper and added skip connections.\n",
        "\n",
        "**Don't forget to use your new model by replacing BNConvNet with SkipConvNet!**\n",
        "\n",
        "The results should be about the same as for the previous model."
      ]
    },
    {
      "cell_type": "markdown",
      "metadata": {
        "id": "iuEUTGgtyyJL"
      },
      "source": [
        "#### Your Custom Model\n",
        "\n",
        "What's the best model you can build? Design and implement a model using some of the ideas found at the end of the lab."
      ]
    },
    {
      "cell_type": "code",
      "metadata": {
        "id": "Lk2Lw1k5zbMV"
      },
      "source": [
        "class CustomModel(nn.Module):\n",
        "    def __init__(self, device):\n",
        "        # TODO: Initialise the layers\n",
        "        self.to(device)\n",
        "\n",
        "    def forward(self, x):\n",
        "        # TODO: Use the layers\n",
        "        return x"
      ],
      "execution_count": null,
      "outputs": []
    },
    {
      "cell_type": "markdown",
      "metadata": {
        "id": "ctt_vAz5fgnj"
      },
      "source": [
        "## Improve Performance\n",
        "Now that you have all of these tools under your belt, see how well you can get the model to perform! How high can you get the test accuracy? By tweaking the model, optimiser, and number of training epochs, it's possible to achieve test accuracy of over `0.992`.\n",
        "\n",
        "Here are a few ideas you can try to improve performance:\n",
        " * Make the model deeper with more layers\n",
        " * Change the size of the intermediate layers\n",
        " * Change the activation function\n",
        "  * [Check out the PyTorch docs](https://pytorch.org/docs/stable/nn.html#non-linear-activations-weighted-sum-nonlinearity) for a list of options. Common choices are ReLU, ELU, LeakyReLU, Sigmoid and Tanh.\n",
        " * Change the dropout percentage\n",
        " * Get creative with skip connections\n",
        " * Train for longer\n",
        " * Increase or decrease the learning rate"
      ]
    },
    {
      "cell_type": "code",
      "metadata": {
        "id": "IX26PBTkQs1x"
      },
      "source": [
        "# Code that can be used to empty the log file directory.\n",
        "!rm -rf logs"
      ],
      "execution_count": null,
      "outputs": []
    },
    {
      "cell_type": "code",
      "metadata": {
        "id": "aSJ3vN9Hoc5j"
      },
      "source": [],
      "execution_count": null,
      "outputs": []
    }
  ]
}